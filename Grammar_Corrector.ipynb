{
  "nbformat": 4,
  "nbformat_minor": 0,
  "metadata": {
    "colab": {
      "name": "Grammar Corrector.ipynb",
      "provenance": []
    },
    "kernelspec": {
      "name": "python3",
      "display_name": "Python 3"
    },
    "language_info": {
      "name": "python"
    },
    "accelerator": "GPU"
  },
  "cells": [
    {
      "cell_type": "markdown",
      "source": [
        "###1. Install and Import Dependencies\n"
      ],
      "metadata": {
        "id": "UVglS_Vc1Bz_"
      }
    },
    {
      "cell_type": "code",
      "execution_count": null,
      "metadata": {
        "id": "RTUp_FL207rh"
      },
      "outputs": [],
      "source": [
        "!pip install torch==1.8.1+cu111 torchvision==0.9.1+cu111 torchaudio===0.8.1 -f https://download.pytorch.org/whl/lts/1.8/torch_lts.html\n"
      ]
    },
    {
      "cell_type": "code",
      "source": [
        "!pip3 install pip==20.1.1 \n",
        "# IMPORTANT NOTE: (If install runs endlessly resolving package versions in for instance colab, refer to issue #22 - https://github.com/PrithivirajDamodaran/Gramformer/issues/22)\n",
        "!pip3 install -U git+https://github.com/PrithivirajDamodaran/Gramformer.git"
      ],
      "metadata": {
        "id": "MvHwANOO1G_x"
      },
      "execution_count": null,
      "outputs": []
    },
    {
      "cell_type": "code",
      "source": [
        "from gramformer import Gramformer\n"
      ],
      "metadata": {
        "id": "VRVgOrDM1ICc"
      },
      "execution_count": 3,
      "outputs": []
    },
    {
      "cell_type": "markdown",
      "source": [
        "###2. Instantiate Gramformer\n"
      ],
      "metadata": {
        "id": "xLRE-RWX1JQd"
      }
    },
    {
      "cell_type": "code",
      "source": [
        "gf = Gramformer(models=1)"
      ],
      "metadata": {
        "colab": {
          "base_uri": "https://localhost:8080/"
        },
        "id": "SzgTfT_C8tde",
        "outputId": "d2bfc745-4e49-4dad-89a9-b6abf03cb60b"
      },
      "execution_count": 4,
      "outputs": [
        {
          "output_type": "stream",
          "name": "stdout",
          "text": [
            "[Gramformer] Grammar error correct/highlight model loaded..\n"
          ]
        }
      ]
    },
    {
      "cell_type": "markdown",
      "source": [
        "###3. Run Correction\n"
      ],
      "metadata": {
        "id": "58TrISTL1MJL"
      }
    },
    {
      "cell_type": "code",
      "source": [
        "gf.correct('I has many dogs at home')"
      ],
      "metadata": {
        "colab": {
          "base_uri": "https://localhost:8080/"
        },
        "id": "6Hq9YwD_9c7S",
        "outputId": "5bb7b500-cca8-4458-d9d2-15c6bd6defc6"
      },
      "execution_count": 5,
      "outputs": [
        {
          "output_type": "execute_result",
          "data": {
            "text/plain": [
              "[('I have many dogs at home.', -34.772804260253906)]"
            ]
          },
          "metadata": {},
          "execution_count": 5
        }
      ]
    },
    {
      "cell_type": "markdown",
      "source": [
        "###4. Putting it Together with Gradio\n",
        "\n"
      ],
      "metadata": {
        "id": "WcTdcykD1N7c"
      }
    },
    {
      "cell_type": "code",
      "source": [
        "!pip install gradio"
      ],
      "metadata": {
        "id": "phc2H1-k1QoZ"
      },
      "execution_count": null,
      "outputs": []
    },
    {
      "cell_type": "code",
      "source": [
        "import gradio as gr"
      ],
      "metadata": {
        "id": "6xu24GZpAW4y"
      },
      "execution_count": 7,
      "outputs": []
    },
    {
      "cell_type": "code",
      "source": [
        "def correct(sentence):\n",
        "  res = gf.correct(sentence)\n",
        "  return res[0]"
      ],
      "metadata": {
        "id": "6XZiFMb-AbWc"
      },
      "execution_count": 8,
      "outputs": []
    },
    {
      "cell_type": "code",
      "source": [
        "correct('I like for walks')"
      ],
      "metadata": {
        "colab": {
          "base_uri": "https://localhost:8080/"
        },
        "id": "AOGjiE_q9ewW",
        "outputId": "37bdedb7-3e5d-407a-9f71-8612a86ed4d0"
      },
      "execution_count": 9,
      "outputs": [
        {
          "output_type": "execute_result",
          "data": {
            "text/plain": [
              "('I like for walks.', -36.188621520996094)"
            ]
          },
          "metadata": {},
          "execution_count": 9
        }
      ]
    },
    {
      "cell_type": "code",
      "source": [
        "app_inputs = gr.inputs.Textbox(lines=2, placeholder='Enter sentence here...')"
      ],
      "metadata": {
        "id": "Rf9kra1l92AQ"
      },
      "execution_count": 11,
      "outputs": []
    },
    {
      "cell_type": "code",
      "source": [
        "interface = gr.Interface(fn = correct,\n",
        "                         inputs = app_inputs,\n",
        "                         outputs = 'text',\n",
        "                         title='Sup, I\\'m Gram Corrector')"
      ],
      "metadata": {
        "id": "0H2Iyh7Q9jXw"
      },
      "execution_count": 15,
      "outputs": []
    },
    {
      "cell_type": "code",
      "source": [
        "interface.launch()"
      ],
      "metadata": {
        "colab": {
          "base_uri": "https://localhost:8080/",
          "height": 643
        },
        "id": "w6SEGuT8-a2y",
        "outputId": "0bcf9a79-5f33-46b5-9810-f151b52583af"
      },
      "execution_count": 16,
      "outputs": [
        {
          "output_type": "stream",
          "name": "stdout",
          "text": [
            "Colab notebook detected. To show errors in colab notebook, set `debug=True` in `launch()`\n",
            "Running on public URL: https://44287.gradio.app\n",
            "\n",
            "This share link expires in 72 hours. For free permanent hosting, check out Spaces (https://huggingface.co/spaces)\n"
          ]
        },
        {
          "output_type": "display_data",
          "data": {
            "text/html": [
              "\n",
              "        <iframe\n",
              "            width=\"900\"\n",
              "            height=\"500\"\n",
              "            src=\"https://44287.gradio.app\"\n",
              "            frameborder=\"0\"\n",
              "            allowfullscreen\n",
              "        ></iframe>\n",
              "        "
            ],
            "text/plain": [
              "<IPython.lib.display.IFrame at 0x7fe687d95750>"
            ]
          },
          "metadata": {}
        },
        {
          "output_type": "execute_result",
          "data": {
            "text/plain": [
              "(<fastapi.applications.FastAPI at 0x7fe6891344d0>,\n",
              " 'http://127.0.0.1:7861/',\n",
              " 'https://44287.gradio.app')"
            ]
          },
          "metadata": {},
          "execution_count": 16
        }
      ]
    }
  ]
}